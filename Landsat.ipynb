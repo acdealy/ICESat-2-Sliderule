{
 "cells": [
  {
   "cell_type": "code",
   "execution_count": null,
   "id": "248be5ce",
   "metadata": {},
   "outputs": [],
   "source": [
    "\n",
    "# folder containing folder named <Landsat ID> which contains the three bands\n",
    "landsat_folder = '/home/acdealy/notebooks/<wherever>/landsat'\n",
    "# Landsat scene ID, example of cloud free Conger ice shelf\n",
    "landsat_scene  = 'LC08_L1GT_111106_20220109_20220114_02_T2'\n",
    "#L1GT level of processing (see https://www.usgs.gov/landsat-missions/landsat-levels-processing)\n",
    "#111106 satellite path 111, row 106\n",
    "#20220109 Acquisition date\n",
    "#20220114 processing date\n",
    "\n",
    "# you can browse and download Landsat imagery from earthexplorer.usgs.gov\n",
    "# you'll need to sign up for an account\n",
    "# 1) find Conger/area of interest on map and draw bounding box\n",
    "# 2) fill in date range or leave blank\n",
    "# 3) click \"Data Sets\", select Landsat > Landsat Collection 2 Level-1 > Landsat 8-9 OLI/TIRS C2 L1\n",
    "# 4) click \"results\" or click \"Additional Criteria\" where you can specify e.g. cloud percentage\n",
    "# 5) When you've chosen a scene, click the download icon, and in the \"download options\" pop-up click \"product options\"\n",
    "# and download bands 2, 3 and 4\n",
    "\n",
    "# The same code should work for Copernicus Sentinel-2 imagery\n",
    "\n",
    "# open and read the bands\n",
    "landsat_B2 = rasterio.open(landsat_folder+'/'+landsat_scene+'/'+landsat_scene+'_B2.TIF') #blue\n",
    "landsat_B3 = rasterio.open(landsat_folder+'/'+landsat_scene+'/'+landsat_scene+'_B3.TIF') #green\n",
    "landsat_B4 = rasterio.open(landsat_folder+'/'+landsat_scene+'/'+landsat_scene+'_B4.TIF') #red\n",
    "image_B2 = landsat_B2.read(1)\n",
    "image_B3 = landsat_B3.read(1)\n",
    "image_B4 = landsat_B4.read(1)\n",
    "\n",
    "# crop to 99th percentile\n",
    "# try with and without these lines to see the difference, play around with percentile if necessary\n",
    "#image_B2[image_B2 > np.percentile(image_B2,99)] = np.percentile(image_B2,99)\n",
    "#image_B3[image_B3 > np.percentile(image_B3,99)] = np.percentile(image_B3,99)\n",
    "#image_B4[image_B4 > np.percentile(image_B4,99)] = np.percentile(image_B4,99)\n",
    "\n",
    "image_rgb = np.array([image_B2, image_B3, image_B4]).transpose(1,2,0)\n",
    "normalized_rgb = (image_rgb * (255 / np.max(image_rgb))).astype(np.uint8)\n",
    "\n",
    "\n",
    "fig=plt.figure(figsize=(10,10))\n",
    "ax1=fig.add_subplot(1,1,1)\n",
    "show(normalized_rgb.transpose(2,0,1), transform=landsat_B2.transform, ax=ax1)\n",
    "\n",
    "plt.show()"
   ]
  }
 ],
 "metadata": {
  "kernelspec": {
   "display_name": "Python 3",
   "language": "python",
   "name": "python3"
  },
  "language_info": {
   "codemirror_mode": {
    "name": "ipython",
    "version": 3
   },
   "file_extension": ".py",
   "mimetype": "text/x-python",
   "name": "python",
   "nbconvert_exporter": "python",
   "pygments_lexer": "ipython3",
   "version": "3.9.6"
  }
 },
 "nbformat": 4,
 "nbformat_minor": 5
}
