{
 "cells": [
  {
   "cell_type": "code",
   "execution_count": 16,
   "id": "9f57e4a4",
   "metadata": {},
   "outputs": [],
   "source": [
    "import h5py\n",
    "import numpy as np\n",
    "import matplotlib.pyplot as plt"
   ]
  },
  {
   "cell_type": "code",
   "execution_count": 6,
   "id": "9c44aa7e",
   "metadata": {},
   "outputs": [],
   "source": []
  },
  {
   "cell_type": "markdown",
   "id": "0f4a8e1d",
   "metadata": {},
   "source": [
    "# Open up and plot an ICESat-2 ATL06 elevation profile"
   ]
  },
  {
   "cell_type": "code",
   "execution_count": 3,
   "id": "5b241515",
   "metadata": {},
   "outputs": [
    {
     "ename": "NameError",
     "evalue": "name 'h5py' is not defined",
     "output_type": "error",
     "traceback": [
      "\u001b[0;31m---------------------------------------------------------------------------\u001b[0m",
      "\u001b[0;31mNameError\u001b[0m                                 Traceback (most recent call last)",
      "\u001b[0;32m<ipython-input-3-9354e839b37e>\u001b[0m in \u001b[0;36m<module>\u001b[0;34m\u001b[0m\n\u001b[0;32m----> 1\u001b[0;31m \u001b[0mdata\u001b[0m \u001b[0;34m=\u001b[0m \u001b[0mh5py\u001b[0m\u001b[0;34m.\u001b[0m\u001b[0mFile\u001b[0m\u001b[0;34m(\u001b[0m\u001b[0;34m'/data/fast0/ATL06_20190522070549_08250306_004_01.h5'\u001b[0m\u001b[0;34m)\u001b[0m\u001b[0;34m\u001b[0m\u001b[0;34m\u001b[0m\u001b[0m\n\u001b[0m\u001b[1;32m      2\u001b[0m \u001b[0;34m\u001b[0m\u001b[0m\n\u001b[1;32m      3\u001b[0m \u001b[0mheights\u001b[0m \u001b[0;34m=\u001b[0m \u001b[0mnp\u001b[0m\u001b[0;34m.\u001b[0m\u001b[0marray\u001b[0m\u001b[0;34m(\u001b[0m \u001b[0mdata\u001b[0m\u001b[0;34m[\u001b[0m\u001b[0;34m'/gt1l/land_ice_segments/h_li'\u001b[0m\u001b[0;34m]\u001b[0m \u001b[0;34m)\u001b[0m\u001b[0;34m\u001b[0m\u001b[0;34m\u001b[0m\u001b[0m\n\u001b[1;32m      4\u001b[0m \u001b[0mx\u001b[0m \u001b[0;34m=\u001b[0m \u001b[0mnp\u001b[0m\u001b[0;34m.\u001b[0m\u001b[0marray\u001b[0m\u001b[0;34m(\u001b[0m \u001b[0mdata\u001b[0m\u001b[0;34m[\u001b[0m\u001b[0;34m'/gt1l/land_ice_segments/ground_track/x_atc'\u001b[0m\u001b[0;34m]\u001b[0m \u001b[0;34m)\u001b[0m\u001b[0;34m\u001b[0m\u001b[0;34m\u001b[0m\u001b[0m\n\u001b[1;32m      5\u001b[0m \u001b[0mquality\u001b[0m \u001b[0;34m=\u001b[0m \u001b[0mnp\u001b[0m\u001b[0;34m.\u001b[0m\u001b[0marray\u001b[0m\u001b[0;34m(\u001b[0m\u001b[0mdata\u001b[0m\u001b[0;34m[\u001b[0m\u001b[0;34m'/gt1l/land_ice_segments/atl06_quality_summary'\u001b[0m\u001b[0;34m]\u001b[0m\u001b[0;34m)\u001b[0m\u001b[0;34m\u001b[0m\u001b[0;34m\u001b[0m\u001b[0m\n",
      "\u001b[0;31mNameError\u001b[0m: name 'h5py' is not defined"
     ]
    }
   ],
   "source": [
    "data = h5py.File('/data/fast0/ATL06_20190522070549_08250306_004_01.h5')\n",
    "\n",
    "heights = np.array( data['/gt1l/land_ice_segments/h_li'] )\n",
    "x = np.array( data['/gt1l/land_ice_segments/ground_track/x_atc'] )\n",
    "quality = np.array(data['/gt1l/land_ice_segments/atl06_quality_summary'])\n",
    "\n",
    "fig,ax=plt.subplots(figsize=(15,10))\n",
    "fig.patch.set_facecolor('white')\n",
    "plt.plot( (x-x[0])/1e3,heights)\n",
    "# plt.scatter( (x-x[0])/1e3,heights,c=quality,edgecolor='k')\n",
    "plt.ylim([-50,200])\n",
    "plt.xlim([415,430])"
   ]
  },
  {
   "cell_type": "markdown",
   "id": "002ca3ef",
   "metadata": {},
   "source": [
    "# FFT Using scipy?\n",
    "Try applying this technique:  https://docs.scipy.org/doc/scipy/tutorial/fft.html"
   ]
  },
  {
   "cell_type": "code",
   "execution_count": null,
   "id": "8bdf1090",
   "metadata": {},
   "outputs": [],
   "source": []
  },
  {
   "cell_type": "markdown",
   "id": "de97fbc5",
   "metadata": {},
   "source": [
    "# Try looking at other data\n",
    "1. Go to Open Altimetry https://openaltimetry.org/data/icesat2/\n",
    "2. Pick another RGT (we first used 0569)\n",
    "3. List all of the data using the command below"
   ]
  },
  {
   "cell_type": "code",
   "execution_count": 1,
   "id": "b14a636e",
   "metadata": {
    "scrolled": true
   },
   "outputs": [
    {
     "name": "stdout",
     "output_type": "stream",
     "text": [
      "/data/fast0/ATL06_20181121153020_08250103_004_01.h5\n",
      "/data/fast0/ATL06_20181121153545_08250104_004_01.h5\n",
      "/data/fast0/ATL06_20181121154054_08250105_004_01.h5\n",
      "/data/fast0/ATL06_20181121161456_08250110_004_01.h5\n",
      "/data/fast0/ATL06_20181121162237_08250111_004_01.h5\n",
      "/data/fast0/ATL06_20181121162820_08250112_004_01.h5\n",
      "/data/fast0/ATL06_20190220111012_08250203_004_01.h5\n",
      "/data/fast0/ATL06_20190220111537_08250204_004_01.h5\n",
      "/data/fast0/ATL06_20190220112046_08250205_004_01.h5\n",
      "/data/fast0/ATL06_20190220112611_08250206_004_01.h5\n",
      "/data/fast0/ATL06_20190220115447_08250210_004_01.h5\n",
      "/data/fast0/ATL06_20190220120228_08250211_004_01.h5\n",
      "/data/fast0/ATL06_20190220120811_08250212_004_01.h5\n",
      "/data/fast0/ATL06_20190522064950_08250303_004_01.h5\n",
      "/data/fast0/ATL06_20190522065515_08250304_004_01.h5\n",
      "/data/fast0/ATL06_20190522070024_08250305_004_01.h5\n",
      "/data/fast0/ATL06_20190522070549_08250306_004_01.h5\n",
      "/data/fast0/ATL06_20190522073426_08250310_004_01.h5\n",
      "/data/fast0/ATL06_20190522074207_08250311_004_01.h5\n",
      "/data/fast0/ATL06_20190522074750_08250312_004_01.h5\n",
      "/data/fast0/ATL06_20190821022938_08250403_004_01.h5\n",
      "/data/fast0/ATL06_20190821023503_08250404_004_01.h5\n",
      "/data/fast0/ATL06_20190821024012_08250405_004_01.h5\n",
      "/data/fast0/ATL06_20190821024537_08250406_004_01.h5\n",
      "/data/fast0/ATL06_20190821031414_08250410_004_01.h5\n",
      "/data/fast0/ATL06_20190821032155_08250411_004_01.h5\n",
      "/data/fast0/ATL06_20190821032738_08250412_004_01.h5\n",
      "/data/fast0/ATL06_20191119220931_08250503_004_01.h5\n",
      "/data/fast0/ATL06_20191119221456_08250504_004_01.h5\n",
      "/data/fast0/ATL06_20191119222005_08250505_004_01.h5\n",
      "/data/fast0/ATL06_20191119222530_08250506_004_01.h5\n",
      "/data/fast0/ATL06_20191119225407_08250510_004_01.h5\n",
      "/data/fast0/ATL06_20191119230147_08250511_004_01.h5\n",
      "/data/fast0/ATL06_20191119230731_08250512_004_01.h5\n",
      "/data/fast0/ATL06_20200218174914_08250603_004_01.h5\n",
      "/data/fast0/ATL06_20200218175439_08250604_004_01.h5\n",
      "/data/fast0/ATL06_20200218175948_08250605_004_01.h5\n",
      "/data/fast0/ATL06_20200218180513_08250606_004_01.h5\n",
      "/data/fast0/ATL06_20200218183350_08250610_004_01.h5\n",
      "/data/fast0/ATL06_20200218184130_08250611_004_01.h5\n",
      "/data/fast0/ATL06_20200218184714_08250612_004_01.h5\n",
      "/data/fast0/ATL06_20200519132904_08250703_004_01.h5\n",
      "/data/fast0/ATL06_20200519133430_08250704_004_01.h5\n",
      "/data/fast0/ATL06_20200519133939_08250705_004_01.h5\n",
      "/data/fast0/ATL06_20200519134504_08250706_004_01.h5\n",
      "/data/fast0/ATL06_20200519141340_08250710_004_01.h5\n",
      "/data/fast0/ATL06_20200519142121_08250711_004_01.h5\n",
      "/data/fast0/ATL06_20200519142704_08250712_004_01.h5\n",
      "/data/fast0/ATL06_20200818090849_08250803_004_01.h5\n",
      "/data/fast0/ATL06_20200818091414_08250804_004_01.h5\n",
      "/data/fast0/ATL06_20200818091923_08250805_004_01.h5\n",
      "/data/fast0/ATL06_20200818092448_08250806_004_01.h5\n",
      "/data/fast0/ATL06_20200818095325_08250810_004_01.h5\n",
      "/data/fast0/ATL06_20200818100106_08250811_004_01.h5\n",
      "/data/fast0/ATL06_20200818100649_08250812_004_01.h5\n",
      "/data/fast0/ATL06_20201117044838_08250903_004_01.h5\n",
      "/data/fast0/ATL06_20201117045404_08250904_004_01.h5\n",
      "/data/fast0/ATL06_20201117045913_08250905_004_01.h5\n",
      "/data/fast0/ATL06_20201117050438_08250906_004_01.h5\n",
      "/data/fast0/ATL06_20201117053314_08250910_004_01.h5\n",
      "/data/fast0/ATL06_20201117054055_08250911_004_01.h5\n",
      "/data/fast0/ATL06_20201117054638_08250912_004_01.h5\n",
      "/data/fast0/ATL06_20210216002831_08251003_004_01.h5\n",
      "/data/fast0/ATL06_20210216003356_08251004_004_01.h5\n",
      "/data/fast0/ATL06_20210216003906_08251005_004_01.h5\n",
      "/data/fast0/ATL06_20210216004431_08251006_004_01.h5\n",
      "/data/fast0/ATL06_20210216011307_08251010_004_01.h5\n",
      "/data/fast0/ATL06_20210216012048_08251011_004_01.h5\n",
      "/data/fast0/ATL06_20210216012631_08251012_004_01.h5\n",
      "/data/fast0/ATL06_20210517200823_08251103_004_01.h5\n",
      "/data/fast0/ATL06_20210517201348_08251104_004_01.h5\n",
      "/data/fast0/ATL06_20210517201858_08251105_004_01.h5\n",
      "/data/fast0/ATL06_20210517202423_08251106_004_01.h5\n",
      "/data/fast0/ATL06_20210517205259_08251110_004_01.h5\n",
      "/data/fast0/ATL06_20210517210040_08251111_004_01.h5\n",
      "/data/fast0/ATL06_20210517210623_08251112_004_01.h5\n"
     ]
    }
   ],
   "source": [
    "import glob\n",
    "file_list = glob.glob(\"/data/fast0/*_0825*h5\")\n",
    "for file in file_list:\n",
    "    print(file)\n"
   ]
  },
  {
   "cell_type": "code",
   "execution_count": null,
   "id": "9d8b9734",
   "metadata": {},
   "outputs": [],
   "source": []
  }
 ],
 "metadata": {
  "kernelspec": {
   "display_name": "Python 3",
   "language": "python",
   "name": "python3"
  },
  "language_info": {
   "codemirror_mode": {
    "name": "ipython",
    "version": 3
   },
   "file_extension": ".py",
   "mimetype": "text/x-python",
   "name": "python",
   "nbconvert_exporter": "python",
   "pygments_lexer": "ipython3",
   "version": "3.9.6"
  }
 },
 "nbformat": 4,
 "nbformat_minor": 5
}
